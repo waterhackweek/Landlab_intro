{
 "cells": [
  {
   "cell_type": "markdown",
   "metadata": {},
   "source": [
    "<a href=\"http://landlab.github.io\"><img style=\"float: left; height: 175px; width: 175px\" src=\"./landlab_logo.jpg\"></a> <h3 style=\"margin: 117px 0 0 185px; font-weight: 300;\">a toolkit for modeling earth surface processes</h3>"
   ]
  },
  {
   "cell_type": "markdown",
   "metadata": {},
   "source": [
    "# Landlab grids"
   ]
  },
  {
   "cell_type": "markdown",
   "metadata": {},
   "source": [
    "## Understanding the topology of Landlab grids\n",
    "\n",
    "All grids consist of two interlocked sets of *points* joined by *lines* outlining *areas*. The data points are called **nodes**, which are joined by **links** which outline **patches**. Each node within the interior of the grid lies at the geometric center of the area of a **cell**. The cell's edges are **faces**, and the point at the edge of each face is a **corner**.\n",
    "\n",
    "Note that this kind of scheme requires one set of features to be \"dominant\" over the other; i.e., either not every node has a cell, *or* not every link is crossed by a face. Both cannot be true, because one or other set of features has to define the edge of the grid. Landlab assumes that the **node set is primary**, so there are always more nodes than corners; more links than faces; and more patches than cells.\n",
    "\n",
    "Each of these sets of *\"elements\"* has its own set of IDs. These IDs are what allow us to index the various Landlab fields which store spatial data. Each feature is ordered by **x, then y**. The origin is always at the bottom left node, unless you choose to move it (`grid.move_origin`)... except in the specific case of a radial grid, where logic and symmetry dictates it must be the central node.\n",
    "\n",
    "The final thing to know is that **lines have direction**. This lets us record fluxes on the grid by associating them with, and mapping them onto, the links (or, much less commonly, the faces). All lines point into the **upper right quadrant**. So, on our raster, this means the horizontal links point east an the vertical links point north.\n",
    "\n",
    "So, for reference, our raster grid looks like this:\n",
    "\n",
    "\n",
    "    NODES:                       LINKS:                       PATCHES:\n",
    "    8 ----- 9 ---- 10 ---- 11    *--14-->* -15-->* -16-->*    * ----- * ----- * ----- *\n",
    "    |       |       |       |    ^       ^       ^       ^    |       |       |       |\n",
    "    |       |       |       |   10      11      12      13    |   3   |   4   |   5   |\n",
    "    |       |       |       |    |       |       |       |    |       |       |       |\n",
    "    4 ----- 5 ----- 6 ----- 7    * --7-- * --8-- * --9-- *    * ----- * ----- * ----- *\n",
    "    |       |       |       |    ^       ^       ^       ^    |       |       |       |\n",
    "    |       |       |       |    3       4       5       6    |   0   |   1   |   2   |\n",
    "    |       |       |       |    |       |       |       |    |       |       |       |\n",
    "    0 ----- 1 ----- 2 ----- 3    * --0-->* --1-->* --2-->*    * ----- * ----- * ----- *\n",
    "\n",
    "    CELLS:                       FACES:                       CORNERS:\n",
    "    * ----- * ----- * ----- *    * ----- * ----- * ----- *    * ----- * ----- * ----- *\n",
    "    |       |       |       |    |       |       |       |    |       |       |       |\n",
    "    |   . ----- . ----- .   |    |   . --5-->. --6-->.   |    |   3 ----- 4 ----- 5   |\n",
    "    |   |       |       |   |    |   ^       ^       ^   |    |   |       |       |   |\n",
    "    * --|   0   |   1   |-- *    * --2       3       4-- *    * --|       |       |-- *\n",
    "    |   |       |       |   |    |   |       |       |   |    |   |       |       |   |\n",
    "    |   . ----- . ----- .   |    |   . --0-->. --1-->.   |    |   0 ----- 1 ----- 2   |\n",
    "    |       |       |       |    |       |       |       |    |       |       |       |\n",
    "    * ----- * ----- * ----- *    * ----- * ----- * ----- *    * ----- * ----- * ----- *\n",
    "\n"
   ]
  },
  {
   "cell_type": "markdown",
   "metadata": {},
   "source": [
    "Landlab supports a range of grid types. These include both rasters (with both square and rectangular cells), and a range of structured and unstructured grids based around the interlocking polygons and triangles of a Voronoi-Delaunay tesselation (radial, hexagonal, and irregular grids).\n",
    "\n",
    "Below, we'll start looking at some of the features of a **rectangular raster**."
   ]
  },
  {
   "cell_type": "markdown",
   "metadata": {},
   "source": [
    "### First, we'll create a grid"
   ]
  },
  {
   "cell_type": "code",
   "execution_count": null,
   "metadata": {},
   "outputs": [],
   "source": [
    "%matplotlib inline\n",
    "\n",
    "# Import relevant pieces of landlab\n",
    "from landlab import RasterModelGrid\n",
    "from landlab.plot import imshow_grid\n",
    "\n",
    "# Import some important other python packages\n",
    "import numpy as np\n",
    "import matplotlib.pyplot as plt"
   ]
  },
  {
   "cell_type": "code",
   "execution_count": null,
   "metadata": {},
   "outputs": [],
   "source": [
    "# Create a rectangular raster with 4 rows, 5 columns, and 10 unit spacing\n",
    "rmg = RasterModelGrid((4,5), 10.0)"
   ]
  },
  {
   "cell_type": "code",
   "execution_count": null,
   "metadata": {},
   "outputs": [],
   "source": [
    "# How many nodes are there?\n",
    "rmg.number_of_nodes"
   ]
  },
  {
   "cell_type": "code",
   "execution_count": null,
   "metadata": {},
   "outputs": [],
   "source": [
    "# How many links?\n",
    "rmg.number_of_links"
   ]
  },
  {
   "cell_type": "code",
   "execution_count": null,
   "metadata": {},
   "outputs": [],
   "source": [
    "# How many rows?\n",
    "rmg.number_of_node_rows"
   ]
  },
  {
   "cell_type": "code",
   "execution_count": null,
   "metadata": {},
   "outputs": [],
   "source": [
    "# How many columns?\n",
    "rmg.number_of_node_columns"
   ]
  },
  {
   "cell_type": "code",
   "execution_count": null,
   "metadata": {},
   "outputs": [],
   "source": [
    "# How many core nodes?\n",
    "rmg.number_of_core_nodes"
   ]
  },
  {
   "cell_type": "code",
   "execution_count": null,
   "metadata": {},
   "outputs": [],
   "source": [
    "# How many cells?\n",
    "rmg.number_of_cells"
   ]
  },
  {
   "cell_type": "markdown",
   "metadata": {},
   "source": [
    "### Let's attach elevation data to the grid!"
   ]
  },
  {
   "cell_type": "code",
   "execution_count": null,
   "metadata": {},
   "outputs": [],
   "source": [
    "# Create a random array of elevations\n",
    "z = 10*np.random.rand(rmg.number_of_nodes)\n",
    "\n",
    "# Attach the elevation array to the grid as a new field called topographic__elevation\n",
    "rmg.add_field('node', 'topographic__elevation', z)"
   ]
  },
  {
   "cell_type": "markdown",
   "metadata": {},
   "source": [
    "We can plot the elevation field to look at our data graphically."
   ]
  },
  {
   "cell_type": "code",
   "execution_count": null,
   "metadata": {},
   "outputs": [],
   "source": [
    "imshow_grid(rmg, 'topographic__elevation', plot_name='Example grid', var_name='Elevation (m)')\n",
    "plt.show()"
   ]
  },
  {
   "cell_type": "markdown",
   "metadata": {},
   "source": [
    "### Explore node/link structure and new topographic__elevation field"
   ]
  },
  {
   "cell_type": "code",
   "execution_count": null,
   "metadata": {},
   "outputs": [],
   "source": [
    "# Quick status definitions:\n",
    "#     CORE_NODE = 0\n",
    "#     FIXED_VALUE_BOUNDARY = 1\n",
    "#     FIXED_GRADIENT_BOUNDARY = 2\n",
    "#     TRACK_CELL_BOUNDARY = 3\n",
    "#     CLOSED_BOUNDARY = 4\n",
    "# Most often you will see 0, 1, and 4\n",
    "\n",
    "rmg.status_at_node[13]"
   ]
  },
  {
   "cell_type": "code",
   "execution_count": null,
   "metadata": {},
   "outputs": [],
   "source": [
    "rmg.links_at_node[13]"
   ]
  },
  {
   "cell_type": "code",
   "execution_count": null,
   "metadata": {},
   "outputs": [],
   "source": [
    "rmg.link_dirs_at_node[13]"
   ]
  },
  {
   "cell_type": "code",
   "execution_count": null,
   "metadata": {},
   "outputs": [],
   "source": [
    "rmg.node_at_link_tail[20]"
   ]
  },
  {
   "cell_type": "code",
   "execution_count": null,
   "metadata": {},
   "outputs": [],
   "source": [
    "rmg.at_node['topographic__elevation'][13]"
   ]
  },
  {
   "cell_type": "markdown",
   "metadata": {},
   "source": [
    "We can change the elevation at node 13 using the following:"
   ]
  },
  {
   "cell_type": "code",
   "execution_count": null,
   "metadata": {},
   "outputs": [],
   "source": [
    "rmg.at_node['topographic__elevation'][13] = 100\n",
    "\n",
    "# We can also use z[13] = 100 to do this!"
   ]
  },
  {
   "cell_type": "code",
   "execution_count": null,
   "metadata": {},
   "outputs": [],
   "source": [
    "# Let's check that we actually changed it\n",
    "rmg.at_node['topographic__elevation'][13]"
   ]
  },
  {
   "cell_type": "markdown",
   "metadata": {},
   "source": [
    "# Landlab components"
   ]
  },
  {
   "cell_type": "markdown",
   "metadata": {},
   "source": [
    "Now, we can walk through the stages of creating and running a Landlab model using the Landlab component library.\n",
    "\n",
    "We are going to develop two models:  \n",
    "1. A single component driver implementing just linear diffusion  \n",
    "2. A three-component driver implementing linear diffusion, flow routing, and stream power incision.\n",
    "\n",
    "## The basics: using one component\n",
    "\n",
    "Let's begin with a very basic one-component diffusion model.\n",
    "\n",
    "Quick note: All Landlab component names are formatted in CamelCaseLikeThis."
   ]
  },
  {
   "cell_type": "code",
   "execution_count": null,
   "metadata": {},
   "outputs": [],
   "source": [
    "# Import the LinearDiffuser component\n",
    "from landlab.components import LinearDiffuser"
   ]
  },
  {
   "cell_type": "code",
   "execution_count": null,
   "metadata": {},
   "outputs": [],
   "source": [
    "# Create a square model grid\n",
    "mg = RasterModelGrid((80, 80), 5.)\n",
    "\n",
    "# Add our elevation field. \n",
    "# Note that this is slightly different than what we did in the previous example!\n",
    "z = mg.add_zeros('node', 'topographic__elevation')"
   ]
  },
  {
   "cell_type": "markdown",
   "metadata": {},
   "source": [
    "How did we know that elevation was a necessary input field for the LinearDiffuser component? Well, firstly because we read the component documentation (**always do this!**), but secondly we can get a reminder using the Landlab Component Standard Interface:"
   ]
  },
  {
   "cell_type": "code",
   "execution_count": null,
   "metadata": {},
   "outputs": [],
   "source": [
    "LinearDiffuser.input_var_names"
   ]
  },
  {
   "cell_type": "markdown",
   "metadata": {},
   "source": [
    "Note we didn't have to instantiate the component to be able to do this! Other standard properties are `output_var_names` and `optional_var_names`; pass an input or output name to `var_loc`, `var_type`, `var_units`, and `var_definition` to get the centering ('node', 'link', etc), array dtype (float, int), units (meters, etc) and a descriptive string, respectively. `var_help` will give you a lot of this information at once:"
   ]
  },
  {
   "cell_type": "code",
   "execution_count": null,
   "metadata": {},
   "outputs": [],
   "source": [
    "LinearDiffuser.var_help('topographic__elevation')"
   ]
  },
  {
   "cell_type": "markdown",
   "metadata": {},
   "source": [
    "It's also a good idea to set the grid boundary conditions before component instantiation. Let's have fixed value top and bottom and closed left and right:"
   ]
  },
  {
   "cell_type": "code",
   "execution_count": null,
   "metadata": {},
   "outputs": [],
   "source": [
    "# Set boundary conditions! These built-in methods for Landlab sure are nifty, huh? \n",
    "mg.set_closed_boundaries_at_grid_edges(True, False, True, False)\n",
    "mg.set_fixed_value_boundaries_at_grid_edges(False, True, False, True)"
   ]
  },
  {
   "cell_type": "markdown",
   "metadata": {},
   "source": [
    "Now we can move on to using the component!  \n",
    "All components within landlab share a similar interface. We'll examine how it looks first on the diffusion component.\n",
    "\n",
    "You need two pieces main pieces to run a landlab component: \n",
    "1. The component instantiation\n",
    "2. The component run_one_step() method \n",
    "\n",
    "### Component instantiation\n",
    "The standard signature to instantiate a component looks like this:\n",
    "\n",
    "    MyComponent(grid, input1=default1, input2=default2, input3=default3, ..., **kwds)\n",
    "\n",
    "Because defaults are provided, you can instantiate a component with default values very simply; the diffuser requires only that a `linear_diffusity` be supplied:"
   ]
  },
  {
   "cell_type": "code",
   "execution_count": null,
   "metadata": {},
   "outputs": [],
   "source": [
    "lin_diffuse = LinearDiffuser(mg, linear_diffusivity=0.2)"
   ]
  },
  {
   "cell_type": "markdown",
   "metadata": {},
   "source": [
    "### Running the component\n",
    "Now we're ready to run the component! All Landlab components have a standard run method named `run_one_step`, and it looks like this:\n",
    "\n",
    "    my_comp.run_one_step([dt], other_inputA=defaultA, ...)\n",
    "\n",
    "If the component is time-dependent, `dt`, the timestep, will be the first argument. Subsequent keywords will typically be flags that control the way the component runs, and typically can be left as their default values. Note that nothing is returned from a run method like this, but *the grid fields are updated*.\n",
    "\n",
    "This `dt` is properly thought of as the *external model timestep*; it controls the frequency at which the various Landlab components you're implementing can exchange information with each other and with the driver (e.g., frequency at which uplift steps are added to the grid). If your model has a stability condition which demands a shorter timestep, the external timestep will be subdivided internally down to this shorter timescale.\n",
    "\n",
    "So let's do it. It's up to you as the model designer to make sure your driver script accounts properly for the total time the model runs. Here, we want to run for 200000 years with a timestep of 1000 years, with an uplift rate of 0.001 m/y. So:"
   ]
  },
  {
   "cell_type": "code",
   "execution_count": null,
   "metadata": {},
   "outputs": [],
   "source": [
    "total_t = 200000.\n",
    "dt = 1000.\n",
    "uplift_rate = 0.001\n",
    "nt = int(total_t // dt)\n",
    "# Note: if we didn't know a priori that there are a round number of steps dt in the\n",
    "# total time, we'd have to take care to account for the \"extra\" time.\n",
    "\n",
    "# Run the model\n",
    "for i in range(nt):\n",
    "    lin_diffuse.run_one_step(dt)\n",
    "    \n",
    "    z[mg.core_nodes] += uplift_rate * dt  # add the uplift\n",
    "    \n",
    "    # Print some output to let us know the model *is* running\n",
    "    if i % 50 == 0:\n",
    "        print(i*dt)"
   ]
  },
  {
   "cell_type": "markdown",
   "metadata": {},
   "source": [
    "Note that we're using `z` to input the uplift here, which we bound to the Landlab field `mg.at_node['topographic__elevation]` when we instantiated that field.\n",
    "\n",
    "Now plot the output!  "
   ]
  },
  {
   "cell_type": "code",
   "execution_count": null,
   "metadata": {},
   "outputs": [],
   "source": [
    "# Create a figure and plot the elevations\n",
    "imshow_grid(mg, 'topographic__elevation', grid_units = ['m','m'],\n",
    "            var_name='Elevation (m)')\n",
    "plt.show()"
   ]
  },
  {
   "cell_type": "code",
   "execution_count": null,
   "metadata": {},
   "outputs": [],
   "source": [
    "# Let's look at a cross-section of this!\n",
    "\n",
    "elev_rast = mg.node_vector_to_raster(z) #Convert elevation to a raster\n",
    "ycoord_rast = mg.node_vector_to_raster(mg.node_y) #Convert the y coords to a raster\n",
    "ncols = mg.number_of_node_columns #How many columns?\n",
    "\n",
    "plt.plot(ycoord_rast[:, int(ncols // 2)], elev_rast[:, int(ncols // 2)])\n",
    "plt.xlabel('Horizontal distance (m)')\n",
    "plt.ylabel('Vertical distance (m)')\n",
    "plt.title('topographic__elevation cross section')\n",
    "plt.show()"
   ]
  },
  {
   "cell_type": "markdown",
   "metadata": {},
   "source": [
    "# Running two or more components\n",
    "\n",
    "Now we're going to take a similar approach but this time combine the outputs of three distinct Landlab components: the linear diffuser, the flow router, and the stream power eroder. For clarity, we're going to repeat the whole process from the start."
   ]
  },
  {
   "cell_type": "code",
   "execution_count": null,
   "metadata": {},
   "outputs": [],
   "source": [
    "# Import components we don't already have\n",
    "from landlab.components import FlowAccumulator, FastscapeEroder"
   ]
  },
  {
   "cell_type": "code",
   "execution_count": null,
   "metadata": {},
   "outputs": [],
   "source": [
    "# Initialize some parameters\n",
    "nrows = 100\n",
    "ncols = 100\n",
    "dx = 0.02 #km\n",
    "uplift_rate = 0.001 #km/yr\n",
    "total_t = 100. #yr\n",
    "dt = 0.5 #yr\n",
    "\n",
    "nt = int(total_t // dt) #this is how many loops we'll need\n",
    "uplift_per_step = uplift_rate * dt"
   ]
  },
  {
   "cell_type": "markdown",
   "metadata": {},
   "source": [
    "Now instantiate the grid, set the initial conditions, and set the boundary conditions:"
   ]
  },
  {
   "cell_type": "code",
   "execution_count": null,
   "metadata": {},
   "outputs": [],
   "source": [
    "# Create our grid and add topographic__elevation field\n",
    "mg = RasterModelGrid((nrows, ncols), dx)\n",
    "z = mg.add_zeros('node', 'topographic__elevation')\n",
    "\n",
    "# Add some roughness, as this lets \"natural\" channel planforms arise\n",
    "initial_roughness = np.random.rand(z.size)/100000.\n",
    "z += initial_roughness\n",
    "\n",
    "# Set boundary conditions\n",
    "mg.set_closed_boundaries_at_grid_edges(True, False, True, False)\n",
    "mg.set_fixed_value_boundaries_at_grid_edges(False, True, False, True)"
   ]
  },
  {
   "cell_type": "markdown",
   "metadata": {},
   "source": [
    "So far, so familiar.\n",
    "\n",
    "Now we're going to instantiate all our components."
   ]
  },
  {
   "cell_type": "code",
   "execution_count": null,
   "metadata": {},
   "outputs": [],
   "source": [
    "# Instantiate the flow routing component using the defaults\n",
    "fa = FlowAccumulator(mg)\n",
    "\n",
    "# Instantiate the erosion component, changing some of the defaults\n",
    "fsc = FastscapeEroder(mg, K_sp=0.3, m_sp=0.5, n_sp=1)\n",
    "\n",
    "# Instantiate the linear diffusion component, changing some of the defaults\n",
    "lin_diffuse = LinearDiffuser(mg, rock_density=2.7, sed_density=2.7,linear_diffusivity=0.0001)"
   ]
  },
  {
   "cell_type": "markdown",
   "metadata": {},
   "source": [
    "And now we run! We're going to run once with the diffusion and once without."
   ]
  },
  {
   "cell_type": "code",
   "execution_count": null,
   "metadata": {},
   "outputs": [],
   "source": [
    "# Run model without diffusion first\n",
    "\n",
    "for i in range(nt):\n",
    "    # lin_diffuse.run_one_step(dt) no diffusion this time\n",
    "    fa.run_one_step() # run_one_step for fa isn't time sensitive, so it doesn't take dt as input\n",
    "    fsc.run_one_step(dt)\n",
    "    \n",
    "    mg.at_node['topographic__elevation'][mg.core_nodes] += uplift_per_step # add the uplift\n",
    "    \n",
    "    if i % 20 == 0:\n",
    "        print ('Completed loop %d' % i)"
   ]
  },
  {
   "cell_type": "code",
   "execution_count": null,
   "metadata": {},
   "outputs": [],
   "source": [
    "# Look at our beautiful plot!\n",
    "imshow_grid(mg, 'topographic__elevation', plot_name='No linear diffusion',\n",
    "            grid_units=['km','km'], var_name='Elevation (km)')\n",
    "plt.show()"
   ]
  },
  {
   "cell_type": "markdown",
   "metadata": {
    "collapsed": true
   },
   "source": [
    "And now let's reset the grid elevations and do everything again, but this time, with the diffusion turned *on*:"
   ]
  },
  {
   "cell_type": "code",
   "execution_count": null,
   "metadata": {},
   "outputs": [],
   "source": [
    "# Reset to the initial elevation\n",
    "z[:] = initial_roughness\n",
    "\n",
    "# Run model with linear diffusion!\n",
    "for i in range(nt):\n",
    "    lin_diffuse.run_one_step(dt)  #with diffusion this time\n",
    "    fa.run_one_step()\n",
    "    fsc.run_one_step(dt)\n",
    "    \n",
    "    mg.at_node['topographic__elevation'][mg.core_nodes] += uplift_per_step #add the uplift\n",
    "    \n",
    "    if i % 20 == 0:\n",
    "        print ('Completed loop %d' % i) #print something so we know the model is running!"
   ]
  },
  {
   "cell_type": "code",
   "execution_count": null,
   "metadata": {},
   "outputs": [],
   "source": [
    "# Another pretty plot!\n",
    "imshow_grid(mg, 'topographic__elevation', plot_name='With linear diffusion',\n",
    "            grid_units=['km','km'], var_name='Elevation (km)')\n",
    "plt.show()"
   ]
  },
  {
   "cell_type": "markdown",
   "metadata": {},
   "source": [
    "Ta-da! You can now create model drivers to use Landlab components!\n",
    "\n",
    "This was a basic example to show the utility of Landlab. We have provided two additional water-specific examples (OverlandFlow and Ecohydrology) for further exploration (on Hydroshare and GitHub!), and we will discuss them in detail during WaterHackWeek!"
   ]
  },
  {
   "cell_type": "markdown",
   "metadata": {},
   "source": [
    "### Click here for more <a href=\"https://github.com/landlab/landlab/wiki/Tutorials\">Landlab tutorials</a>"
   ]
  }
 ],
 "metadata": {
  "kernelspec": {
   "display_name": "Python 3",
   "language": "python",
   "name": "python3"
  },
  "language_info": {
   "codemirror_mode": {
    "name": "ipython",
    "version": 3
   },
   "file_extension": ".py",
   "mimetype": "text/x-python",
   "name": "python",
   "nbconvert_exporter": "python",
   "pygments_lexer": "ipython3",
   "version": "3.6.7"
  }
 },
 "nbformat": 4,
 "nbformat_minor": 1
}
